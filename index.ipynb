{
 "cells": [
  {
   "cell_type": "markdown",
   "id": "7450a2f4-d9d5-4f88-a366-cce3da2e5fc0",
   "metadata": {},
   "source": [
    "---\n",
    "title: \"Why this guide?\"\n",
    "---"
   ]
  },
  {
   "cell_type": "markdown",
   "id": "6f26e418-fe4d-4006-bb5e-99945e2d4308",
   "metadata": {
    "editable": true,
    "slideshow": {
     "slide_type": "slide"
    },
    "tags": []
   },
   "source": [
    "What is this?"
   ]
  },
  {
   "cell_type": "markdown",
   "id": "28e0dfe2-4abe-436f-be32-36ee5e36e64e",
   "metadata": {},
   "source": [
    "### Science as amateur software development"
   ]
  },
  {
   "cell_type": "markdown",
   "id": "f69dc283-2c0c-4af2-b87e-5e0022325df3",
   "metadata": {},
   "source": [
    "[![Everything Is AWESOME](https://img.youtube.com/vi/zwRdO9_GGhY/0.jpg)](https://yewtu.be/watch?v=zwRdO9_GGhY)\n",
    "\n",
    "> Science is one of humanity's greatest inventions. Academia, on the other hand, is not. It is remarkable how successful science has been, given the often chaotic habits of scientists. In contrast to other fields, like say landscaping or software engineering, science as a profession is largely *unprofessional*—apprentice scientists are taught less about how to work responsibly than about how to earn promotions. This results in ubiquitous and costly errors. Software development has become indispensable to scientific work. I want to playfully ask how it can become even more useful by transferring some aspects of its professionalism, the day-to-day tracking and back-tracking and testing that is especially part of distributed, open-source software development. Science, after all, aspires to be distributed, open-source knowledge development."
   ]
  },
  {
   "cell_type": "markdown",
   "id": "65552876-4b60-4e2f-bcaa-6b9034c5e02b",
   "metadata": {},
   "source": [
    "### Elements"
   ]
  },
  {
   "cell_type": "markdown",
   "id": "e1699514-dbb0-4ae5-a5af-13c8c2ff37ff",
   "metadata": {
    "editable": true,
    "slideshow": {
     "slide_type": "slide"
    },
    "tags": []
   },
   "source": [
    "- Computational sciences develop models and analyze data.\n",
    "- Transparency\n",
    "- Reproducible\n",
    "- Collaborative"
   ]
  },
  {
   "cell_type": "markdown",
   "id": "d3a007a2-69cc-4a6d-972c-6d6b25169774",
   "metadata": {},
   "source": [
    "---"
   ]
  },
  {
   "cell_type": "markdown",
   "id": "426818d7-e2e4-49a7-82c6-86c91d56743d",
   "metadata": {
    "editable": true,
    "slideshow": {
     "slide_type": "fragment"
    },
    "tags": []
   },
   "source": [
    "- It is a hitchhiker's guide because many of the elements we use are very common practices. We don't need to drive ourselves."
   ]
  },
  {
   "cell_type": "markdown",
   "id": "af2a7692-b615-49cb-934b-59fbb8c9283c",
   "metadata": {
    "editable": true,
    "slideshow": {
     "slide_type": ""
    },
    "tags": []
   },
   "source": [
    "### What do we want? {.unnumbered}\n",
    "\n",
    "- Publications (as a PDF, on the web, with images)\n",
    "    - Cross-referencing\n",
    "    - Citations\n",
    "- Execute and reuse code\n",
    "- Presentations\n",
    "- Unit tests\n",
    "- Animations\n",
    "- Version control\n",
    "  \n"
   ]
  },
  {
   "cell_type": "markdown",
   "id": "b2025d67-d79a-4411-982d-5cd6e3627b82",
   "metadata": {
    "editable": true,
    "slideshow": {
     "slide_type": "slide"
    },
    "tags": []
   },
   "source": [
    "## Tools: How do we get it? {.unnumbered}\n",
    "\n",
    "- Jupyter notebooks\n",
    "- quarto\n",
    "- nbdev\n",
    "- Jupyter lab (extensions)\n",
    "- git & github\n",
    "  "
   ]
  }
 ],
 "metadata": {
  "kernelspec": {
   "display_name": "Python 3 (ipykernel)",
   "language": "python",
   "name": "python3"
  },
  "language_info": {
   "codemirror_mode": {
    "name": "ipython",
    "version": 3
   },
   "file_extension": ".py",
   "mimetype": "text/x-python",
   "name": "python",
   "nbconvert_exporter": "python",
   "pygments_lexer": "ipython3",
   "version": "3.11.8"
  }
 },
 "nbformat": 4,
 "nbformat_minor": 5
}
