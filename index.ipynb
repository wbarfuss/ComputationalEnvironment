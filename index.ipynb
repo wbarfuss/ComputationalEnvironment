{
 "cells": [
  {
   "cell_type": "markdown",
   "id": "7450a2f4-d9d5-4f88-a366-cce3da2e5fc0",
   "metadata": {
    "editable": true,
    "slideshow": {
     "slide_type": "slide"
    },
    "tags": []
   },
   "source": [
    "---\n",
    "title: \"Why this guide?\"\n",
    "---"
   ]
  },
  {
   "cell_type": "markdown",
   "id": "28e0dfe2-4abe-436f-be32-36ee5e36e64e",
   "metadata": {
    "editable": true,
    "slideshow": {
     "slide_type": "slide"
    },
    "tags": []
   },
   "source": [
    "### Science as amateur software development"
   ]
  },
  {
   "cell_type": "markdown",
   "id": "a1a399be-a840-4816-b91a-350c5a30383b",
   "metadata": {
    "editable": true,
    "slideshow": {
     "slide_type": "fragment"
    },
    "tags": []
   },
   "source": [
    "> Science is one of humanity's greatest inventions. Academia, on the other hand, is not. It is remarkable how successful science has been, given the often chaotic habits of scientists. In contrast to other fields, [...] science as a profession is largely *unprofessional*—apprentice scientists are taught less about how to work responsibly than about how to earn promotions. This results in ubiquitous and costly errors."
   ]
  },
  {
   "cell_type": "markdown",
   "id": "0febf2d5-e4cc-4720-abaf-6b68f355d7e9",
   "metadata": {
    "editable": true,
    "slideshow": {
     "slide_type": "fragment"
    },
    "tags": []
   },
   "source": [
    "> Software development has become indispensable to scientific work. [But] it can become even more useful by transferring some aspects of its professionalism, the day-to-day tracking and back-tracking and testing that is especially part of distributed, open-source software development. **Science, after all, aspires to be distributed, open-source knowledge development.**\n",
    "> -- <cite>Richard McElreath</cite>"
   ]
  },
  {
   "cell_type": "markdown",
   "id": "2809f1e0-a636-40c7-82f7-f32b475b3211",
   "metadata": {
    "editable": true,
    "slideshow": {
     "slide_type": "skip"
    },
    "tags": []
   },
   "source": [
    "[![](https://img.youtube.com/vi/zwRdO9_GGhY/0.jpg)](https://yewtu.be/watch?v=zwRdO9_GGhY)"
   ]
  },
  {
   "cell_type": "markdown",
   "id": "e2f960b7-d6ed-4f3f-b23a-68555a1bdfdf",
   "metadata": {
    "editable": true,
    "slideshow": {
     "slide_type": "slide"
    },
    "tags": []
   },
   "source": [
    "### This guide"
   ]
  },
  {
   "cell_type": "markdown",
   "id": "2066d6e7-c425-491d-8ee4-9af1daeea48e",
   "metadata": {
    "editable": true,
    "slideshow": {
     "slide_type": "skip"
    },
    "tags": []
   },
   "source": [
    "::: {.content-hidden unless-format=\"revealjs\" }"
   ]
  },
  {
   "cell_type": "markdown",
   "id": "be9377d4-def0-4796-8a0c-3d3e29cad365",
   "metadata": {
    "editable": true,
    "slideshow": {
     "slide_type": "fragment"
    },
    "tags": []
   },
   "source": [
    "> my approach to science as amateur software development\n",
    "\n",
    "- Computational sciences develop models and analyze data.\n",
    "- **Transparency** because all models are wrong.\n",
    "- **Reproducible** because its science.\n",
    "- **Collaborative** because the world is complex."
   ]
  },
  {
   "cell_type": "markdown",
   "id": "120717bb-62c6-4ebb-8440-81eba12f187b",
   "metadata": {
    "editable": true,
    "slideshow": {
     "slide_type": "fragment"
    },
    "tags": []
   },
   "source": [
    "- **Hitchhiker's guide** because we can learn from and use open-source software (development). "
   ]
  },
  {
   "cell_type": "markdown",
   "id": "8727353f-e19c-40ab-9dfe-021126b69d4f",
   "metadata": {
    "editable": true,
    "slideshow": {
     "slide_type": "skip"
    },
    "tags": []
   },
   "source": [
    ":::"
   ]
  },
  {
   "cell_type": "markdown",
   "id": "e4f22162-201d-4ca3-ae07-0bc43c10784a",
   "metadata": {
    "editable": true,
    "slideshow": {
     "slide_type": "notes"
    },
    "tags": []
   },
   "source": [
    "In this guide, I want to outline **my approach to science as amateur software development**. I am a computational social ecologist who focuses on developing theoretical models of human-environment interactions. However, the tools and methods shown here should apply to the broad range of **computational sciences**, which all **develop models and analyze data** to some extent."
   ]
  },
  {
   "cell_type": "markdown",
   "id": "d75bdd7c-93fa-4921-a6ed-89d2a6604190",
   "metadata": {
    "editable": true,
    "slideshow": {
     "slide_type": "notes"
    },
    "tags": []
   },
   "source": [
    "**Transparency** is required **because all models are wrong**. Our brains have limited capacity to process the already limited data we receive from the complex world around us, so we simplify. Most often, we do this subconsciously, resulting in a mental model. We use formal models -- computational and mathematical ones -- to make the process of simplification and abstraction a conscious effort. Since a model, by definition, can nor aims to be true, we should optimize the model design and presentation for transparency to **make the conscious modeling thought process a collective one**. Transparency enables reproducibility and collaboration."
   ]
  },
  {
   "cell_type": "markdown",
   "id": "48685841-714f-4107-b65e-ed5a5f6f1d29",
   "metadata": {},
   "source": [
    "**If science is not reproducible, it is not science.** However, the reproducibility crisis [^1] shows that many scientific study results are difficult or impossible to reproduce. This undermines the credibility of scientific knowledge and can lead to costly and inefficient policies.\n",
    "\n",
    "[^1]: https://www.nature.com/collections/prbfkwmwvz"
   ]
  },
  {
   "cell_type": "markdown",
   "id": "9915fc8a-9396-4a59-a895-c55e463583f6",
   "metadata": {},
   "source": [
    "**Collaboration** is required **because the world is too complex** for any individual to do it all by themselves. We need to be able to integrate different perspectives of one phenomenon."
   ]
  },
  {
   "cell_type": "markdown",
   "id": "9bb95e1d-6118-4d97-a771-be2d403ee9af",
   "metadata": {},
   "source": [
    "Luckily, (open-source) software development has not only produced a set of modern software tools to realize these principles. It also provides a range of cultural practices to enable the continuous integration of knowledge collaboratively. We don't need to invent new tools or practices. We just need to be willing to learn. In that sense, this guide is **a hitchhiker's guide**. We don't need to drive all by ourselves. We just have to find the right companions (tools and practices) to make the journey worthwhile and enjoyable."
   ]
  },
  {
   "cell_type": "markdown",
   "id": "af2a7692-b615-49cb-934b-59fbb8c9283c",
   "metadata": {
    "editable": true,
    "jp-MarkdownHeadingCollapsed": true,
    "slideshow": {
     "slide_type": "slide"
    },
    "tags": []
   },
   "source": [
    "### What do we want?\n",
    "\n",
    "> An integrated computational environment for development, analysis, and writing.\n",
    "\n",
    "- Publications (as a PDF, on the web, with images)\n",
    "    - Cross-referencing\n",
    "    - Citations\n",
    "- Execute, reuse, and document code\n",
    "- Version control\n",
    "- Unit tests\n",
    "- Animations\n",
    "- Presentations\n",
    "\n",
    "  \n"
   ]
  },
  {
   "cell_type": "markdown",
   "id": "b2025d67-d79a-4411-982d-5cd6e3627b82",
   "metadata": {
    "editable": true,
    "slideshow": {
     "slide_type": "slide"
    },
    "tags": []
   },
   "source": [
    "### Tools: How do we get it?\n",
    "\n",
    "- Jupyter notebooks\n",
    "- quarto\n",
    "- nbdev\n",
    "- Jupyter lab (extensions)\n",
    "- git & github\n",
    "  "
   ]
  },
  {
   "cell_type": "markdown",
   "id": "781b3157-76b4-466f-a1e0-8dc8502dcb36",
   "metadata": {},
   "source": [
    ":::{.callout-note}\n",
    "This is work in progress. More to come.\n",
    ":::"
   ]
  },
  {
   "cell_type": "code",
   "execution_count": null,
   "id": "d6f83dee-e660-460f-a031-a2239274f528",
   "metadata": {},
   "outputs": [],
   "source": []
  }
 ],
 "metadata": {
  "kernelspec": {
   "display_name": "Python 3 (ipykernel)",
   "language": "python",
   "name": "python3"
  },
  "language_info": {
   "codemirror_mode": {
    "name": "ipython",
    "version": 3
   },
   "file_extension": ".py",
   "mimetype": "text/x-python",
   "name": "python",
   "nbconvert_exporter": "python",
   "pygments_lexer": "ipython3",
   "version": "3.11.8"
  }
 },
 "nbformat": 4,
 "nbformat_minor": 5
}
