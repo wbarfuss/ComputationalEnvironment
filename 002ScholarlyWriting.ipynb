{
 "cells": [
  {
   "cell_type": "markdown",
   "id": "97845918-fd7a-4f7b-a891-9fe7b373f53d",
   "metadata": {},
   "source": [
    "---\n",
    "title: \"Scholarly writing\"\n",
    "author: \n",
    "    - name: \"Wolfram Barfuss\"\n",
    "    - affiliation: \"University of Bonn\"\n",
    "---"
   ]
  },
  {
   "cell_type": "markdown",
   "id": "96cf33bd-87a4-4f59-9b6b-143bf1c26693",
   "metadata": {},
   "source": [
    "In this note, we will cover the basics of scholarly writing. That is the combination of a \n",
    "- narrative in text form,\n",
    "- possibly including images,\n",
    "- with cross-references throughout the text,\n",
    "- while giving attribution to other authors,  \n"
   ]
  },
  {
   "cell_type": "markdown",
   "id": "db011390-ac71-48dd-9042-aa2228c539ea",
   "metadata": {},
   "source": [
    "## Narrative text with images and equations {#sec-text}"
   ]
  },
  {
   "cell_type": "markdown",
   "id": "35c01ebb-ca09-4a39-8a27-8e84f0c4e577",
   "metadata": {},
   "source": [
    "Writing text is obvious and follows basic markdown syntax. More information about that is in the [Quarto documentation](https://quarto.org/docs/authoring/markdown-basics.html)."
   ]
  },
  {
   "cell_type": "markdown",
   "id": "c5c8589e-2d39-405d-95a0-3270cc8ced48",
   "metadata": {},
   "source": [
    "### Images"
   ]
  },
  {
   "cell_type": "markdown",
   "id": "9d9348be-d6bb-4fa4-a3a7-5c22c5a74517",
   "metadata": {},
   "source": [
    "To include images, standard markdown syntax works well\n",
    "\n",
    "    ![Abstract Shape](graphics/drawing.svg)"
   ]
  },
  {
   "cell_type": "markdown",
   "id": "8943aff1-bdac-41a5-8a69-421a5870dbdf",
   "metadata": {},
   "source": [
    "![Abstract Shape](graphics/drawing.svg)\n"
   ]
  },
  {
   "cell_type": "markdown",
   "id": "0ee12b27-ff0b-4194-867e-1d2301021383",
   "metadata": {},
   "source": [
    "I recommend working with vector graphics (`.svg` files). They do not require an additional raw file, which keeps the project folder clean. [Inkscape](https://inkscape.org/) is a great open-source vector graphics program.\n",
    "\n"
   ]
  },
  {
   "cell_type": "markdown",
   "id": "bc79f0bb-c08e-4717-bedc-8ed881d5bd3c",
   "metadata": {},
   "source": [
    "Quarto offers more customization options to images, such as downscaling the image size or specifying the figure alignment,\n",
    "\n",
    "    ![Abstract Shape](graphics/drawing.svg){width=50%, fig-align=\"right\"}"
   ]
  },
  {
   "cell_type": "markdown",
   "id": "2ff7d685-3c03-498a-9784-3b8dc7eb3ce1",
   "metadata": {},
   "source": [
    "which results in\n",
    "\n",
    "![Small Abstract Shape](graphics/drawing.svg){width=50%, fig-align=\"right\"}"
   ]
  },
  {
   "cell_type": "markdown",
   "id": "29610711-7f67-4760-826f-475d635e09f0",
   "metadata": {},
   "source": [
    "However, these additions to the standard markdown syntax are Quarto-specific, which get rendered in the output files produced by Quarto, but not necessarily while displaying the raw Jupyter notebook.\n",
    "\n",
    ":::{.callout-note}\n",
    "By adopting a large-to-small width-to-length ratio for our raw images, such as 16-to-9, we can prioritize transparency, collaboration, and reproducibility. This approach allows us to cleanly display our Jupyter notebooks in other places, such as [GitHub](https://github.com/wbarfuss/pyCRLD/blob/main/nbs/index.ipynb), [NBViewer](https://nbviewer.org/github/wbarfuss/pyCRLD/blob/main/nbs/index.ipynb), or [Google Colab](https://colab.research.google.com/github/wbarfuss/pyCRLD/blob/main/nbs/index.ipynb).\n",
    ":::"
   ]
  },
  {
   "cell_type": "markdown",
   "id": "1399414e-3690-4b57-88c4-74638f872709",
   "metadata": {},
   "source": [
    "### Equations\n",
    "\n",
    "Equations follow standard LaTeX syntax, inline by `$ ... $` or in full display by\n",
    "\n",
    "    $$ ... $$"
   ]
  },
  {
   "cell_type": "markdown",
   "id": "ec3d1714-c24f-4024-a920-065f5dbdc75d",
   "metadata": {},
   "source": [
    "For example, $E=mc^2$, or\n",
    "\n",
    "$$ \n",
    "E=mc^2 \n",
    "$$ {#eq-einstein}"
   ]
  },
  {
   "cell_type": "markdown",
   "id": "482e8aac-e53e-425b-9b51-a0f24cde6c56",
   "metadata": {},
   "source": [
    ":::{.callout-note}\n",
    "Sometimes, the JuptyerLab Quarto extension has problems rendering equations in my setup. I haven't understood the exact cause of this behavior yet. Reloading the python environment did the trick (once). However, when using the LaTex `align` environment for more complex equations, I couldn't get the Quarto extension to display it correctly. To get most of the other displaying features, I can recommend the [MyST Jupyter extension](https://github.com/executablebooks/jupyterlab-myst) as an alternative.\n",
    ":::"
   ]
  },
  {
   "cell_type": "markdown",
   "id": "2429c270-710f-4b9d-bc78-af13a2160ddb",
   "metadata": {},
   "source": [
    "## Cross-references"
   ]
  },
  {
   "cell_type": "markdown",
   "id": "c3c20ca1-84cf-4550-b275-f66d7a51eade",
   "metadata": {},
   "source": [
    "Cross-references help readers navigate your document by providing numbered references and hyperlinks to entities like figures and tables. Each entity needs a unique label, e.g. `#fig-element`, to be cross-referenced."
   ]
  },
  {
   "cell_type": "markdown",
   "id": "6330397d-48db-49e3-9a71-cfae6f0b9042",
   "metadata": {},
   "source": [
    "### Figures\n",
    "\n",
    "Figure receive a label by, for example, \n",
    "\n",
    "    ![Referenced Abstract Shape](graphics/drawing.svg){#fig-shape}"
   ]
  },
  {
   "cell_type": "markdown",
   "id": "8a25abd1-15ff-44db-9155-edb0318b2720",
   "metadata": {},
   "source": [
    "![Referenced Abstract Shape](graphics/drawing.svg){#fig-shape}"
   ]
  },
  {
   "cell_type": "markdown",
   "id": "84b90ce0-36b6-4046-8ce1-c91893028e3b",
   "metadata": {},
   "source": [
    "The `#fig-shape` label makes the figure referenceable.\n",
    "\n",
    "    See @fig-shape for an illustration.\n",
    "\n",
    "See @fig-shape for an illustration."
   ]
  },
  {
   "cell_type": "markdown",
   "id": "ce21a12c-f322-4806-a02e-028da30ca03b",
   "metadata": {},
   "source": [
    "### Sections\n",
    "\n",
    "To reference a section, add a `#sec-` identifier to any heading. For example:\n",
    "\n",
    "    See @sec-text for additional context.\n",
    "\n",
    "See @sec-text for additional context.\n"
   ]
  },
  {
   "cell_type": "markdown",
   "id": "be5b0aa0-3bf5-43f9-8e0c-90bffb44c634",
   "metadata": {},
   "source": [
    "### Equations\n",
    "\n",
    "To reference an equation, add a `#eq-` identifier to any display equation. For example:\n",
    "\n",
    "    $$\n",
    "    ...\n",
    "    $$ {#eq-einstein}\n",
    "\n",
    "See @eq-einstein for additional context.\n"
   ]
  },
  {
   "cell_type": "markdown",
   "id": "a2b8b1d6-5883-47d9-b576-de8b5a57e670",
   "metadata": {},
   "source": [
    "### Footnotes"
   ]
  },
  {
   "cell_type": "markdown",
   "id": "28938f3a-033d-447b-9c0f-af78d28dfd44",
   "metadata": {},
   "source": [
    "Footnotes can be specified using the following syntax:\n",
    "\n",
    "    Here is a footnote reference,[^1] and another.[^longnote]\n",
    "\n",
    "    [^1]: Here is the footnote.\n",
    "    \n",
    "    [^longnote]: Here's one with multiple blocks.\n",
    "    \n",
    "        Subsequent paragraphs are indented to show that they\n",
    "    belong to the previous footnote.\n",
    "    \n",
    "            { some.code }\n",
    "    \n",
    "        The whole paragraph can be indented, or just the first\n",
    "        line.  In this way, multi-paragraph footnotes work like\n",
    "        multi-paragraph list items.\n",
    "    \n",
    "    This paragraph won't be part of the note, because it\n",
    "    isn't indented."
   ]
  },
  {
   "cell_type": "markdown",
   "id": "025c3ef1-52e0-4408-bf71-9484501ddcfe",
   "metadata": {},
   "source": [
    "Here is a footnote reference,[^1] and another.[^longnote]\n",
    "\n",
    "[^1]: Here is the footnote.\n",
    "\n",
    "[^longnote]: Here's one with multiple blocks.\n",
    "\n",
    "    Subsequent paragraphs are indented to show that they\n",
    "belong to the previous footnote.\n",
    "\n",
    "        { some.code }\n",
    "\n",
    "    The whole paragraph can be indented, or just the first\n",
    "    line.  In this way, multi-paragraph footnotes work like\n",
    "    multi-paragraph list items.\n",
    "\n",
    "This paragraph won't be part of the note, because it\n",
    "isn't indented."
   ]
  },
  {
   "cell_type": "markdown",
   "id": "ff0d9168-b879-4426-91d7-860c7826d5f8",
   "metadata": {},
   "source": [
    "Footnotes can be a preferable way to specify links to webpages [^link] to ensure that people notice and can follow the link, even if the output format is a printed PDF.\n",
    "\n",
    "[^link]: https://quarto.org/"
   ]
  },
  {
   "cell_type": "markdown",
   "id": "c519fa59-7f77-4456-afd1-add728c2717d",
   "metadata": {},
   "source": [
    ":::{.callout-warning}\n",
    "Note that the cross-referencing syntax is Quarto-specific and makes Jupyter notebooks display less cleanly in other environments. But the intrusions are not huge (imo).\n",
    ":::"
   ]
  },
  {
   "cell_type": "markdown",
   "id": "3ab19d2e-7d57-4907-bd1c-bbfc49518643",
   "metadata": {},
   "source": [
    "## Citations"
   ]
  },
  {
   "cell_type": "markdown",
   "id": "196219ab-e6e0-49da-9826-fecb86b78057",
   "metadata": {},
   "source": [
    "Citing other scholars' work is a fundamental part of any scholarly written piece. "
   ]
  },
  {
   "cell_type": "markdown",
   "id": "90a54ae1-46c2-46b8-ae97-59f231eae08c",
   "metadata": {},
   "source": [
    "### Bibliography files\n",
    "\n",
    "Quarto supports bibliography files in a wide variety of formats. For example, add a bibliography file to your document in the YAML metadata as follows,\n",
    "    \n",
    "    ---\n",
    "    bibliography: references.bib\n",
    "    ---"
   ]
  },
  {
   "cell_type": "markdown",
   "id": "a61f6511-9e2d-494d-a439-77a7828b4278",
   "metadata": {},
   "source": [
    "The file `references.bib` must be in the same folder as your Jupyter notebook. In our case it contains the following,"
   ]
  },
  {
   "cell_type": "code",
   "execution_count": 7,
   "id": "a5415497-a412-4f2e-b3c3-3c004247eb15",
   "metadata": {},
   "outputs": [
    {
     "name": "stdout",
     "output_type": "stream",
     "text": [
      "@article{BarfussEtAl2020,\n",
      "  title = {Caring for the Future Can Turn Tragedy into Comedy for Long-Term Collective Action under Risk of Collapse},\n",
      "  author = {Barfuss, Wolfram and Donges, Jonathan F. and Vasconcelos, V{\\'i}tor V. and Kurths, J{\\\"u}rgen and Levin, Simon A.},\n",
      "  year = {2020},\n",
      "  journal = {Proceedings of the National Academy of Sciences},\n",
      "  volume = {117},\n",
      "  number = {23},\n",
      "  pages = {12915--12922},\n",
      "  publisher = {Proceedings of the National Academy of Sciences},\n",
      "  doi = {10.1073/pnas.1916545117},\n",
      "  url = {https://www.pnas.org/doi/abs/10.1073/pnas.1916545117},\n",
      "  urldate = {2022-03-10},\n",
      "  copyright = {All rights reserved}\n",
      "}\n",
      "\n",
      "@article{Barfuss2022,\n",
      "  title = {Dynamical Systems as a Level of Cognitive Analysis of Multi-Agent Learning},\n",
      "  author = {Barfuss, Wolfram},\n",
      "  year = {2022},\n",
      "  journal = {Neural Computing and Applications},\n",
      "  volume = {34},\n",
      "  number = {3},\n",
      "  pages = {1653--1671},\n",
      "  issn = {1433-3058},\n",
      "  doi = {10.1007/s00521-021-06117-0},\n",
      "  url = {https://doi.org/10.1007/s00521-021-06117-0},\n",
      "  urldate = {2023-03-02},\n",
      "  copyright = {All rights reserved}\n",
      "}\n"
     ]
    }
   ],
   "source": [
    "!cat references.bib"
   ]
  },
  {
   "cell_type": "markdown",
   "id": "c07abf91-32c8-499e-bfc7-8ea17719732c",
   "metadata": {},
   "source": [
    "### Citations syntax\n",
    "\n",
    "Citations go inside square brackets and are separated by semicolons, e.g., \n",
    "\n",
    "    very important finding [see @BarfussEtAl2020, pp. 2-3; also @Barfuss2022, Sec. 1]"
   ]
  },
  {
   "cell_type": "markdown",
   "id": "e0895513-30cf-4d41-a35d-3fbea1f3cec0",
   "metadata": {},
   "source": [
    "very important finding [see @BarfussEtAl2020, pp. 2-3; also @Barfuss2022, Sec. 2]"
   ]
  },
  {
   "cell_type": "markdown",
   "id": "7abda787-a814-4bb3-bf58-4d88255e8082",
   "metadata": {},
   "source": [
    "## Document metadata"
   ]
  },
  {
   "cell_type": "markdown",
   "id": "a3635f5a-0b7c-441d-a1da-7fe7f2a72863",
   "metadata": {},
   "source": [
    "Document details can be given via a so-called YAML frontmatter.\n",
    "\n",
    "    ---\n",
    "    title: \"Scholarly writing\"\n",
    "    author: \n",
    "        - name: \"Wolfram Barfuss\"\n",
    "        - affiliation: \"University of Bonn\"\n",
    "    ---\n",
    "\n",
    "More information on the [Quarto Documentation](https://quarto.org/docs/authoring/front-matter.html)."
   ]
  },
  {
   "cell_type": "markdown",
   "id": "6b3bf7d2-f0e4-41a6-94ea-992165208b63",
   "metadata": {},
   "source": [
    "## Generating output"
   ]
  },
  {
   "cell_type": "markdown",
   "id": "0e5372e5-7690-443e-bf4e-7826e4ff950d",
   "metadata": {},
   "source": [
    "To render this notebook as a standalone file we give it further metadata:\n",
    "\n",
    "    ---\n",
    "    bibliography: references.bib\n",
    "    format: \n",
    "        pdf:\n",
    "            link-citations: true\n",
    "    ---"
   ]
  },
  {
   "cell_type": "markdown",
   "id": "65909579-2cdf-4e56-9935-ea316e4b6239",
   "metadata": {},
   "source": [
    "---\n",
    "bibliography: references.bib\n",
    "format: \n",
    "    pdf:\n",
    "        link-citations: true\n",
    "---"
   ]
  },
  {
   "cell_type": "markdown",
   "id": "6fc2eef3-5892-498b-a10f-e680cf6b6ec7",
   "metadata": {},
   "source": [
    "Moreover, it must not be part of a project. So we copy it, render the copy, and the remove all unnecessary copies."
   ]
  },
  {
   "cell_type": "code",
   "execution_count": 9,
   "id": "38641c06-ac65-4b11-bd48-8a9378b9d682",
   "metadata": {
    "scrolled": true
   },
   "outputs": [
    {
     "name": "stdout",
     "output_type": "stream",
     "text": [
      "\u001b[1mpandoc \u001b[22m\n",
      "  to: latex\n",
      "  output-file: 002ScholarlyWriting_.tex\n",
      "  standalone: true\n",
      "  pdf-engine: xelatex\n",
      "  variables:\n",
      "    graphics: true\n",
      "    tables: true\n",
      "  default-image-extension: pdf\n",
      "  \n",
      "\u001b[1mmetadata\u001b[22m\n",
      "  documentclass: scrartcl\n",
      "  classoption:\n",
      "    - DIV=11\n",
      "    - numbers=noendperiod\n",
      "  papersize: letter\n",
      "  header-includes:\n",
      "    - '\\KOMAoption{captions}{tableheading}'\n",
      "  block-headings: true\n",
      "  title: Scholarly writing\n",
      "  author:\n",
      "    - name: Wolfram Barfuss\n",
      "    - affiliation: University of Bonn\n",
      "  bibliography:\n",
      "    - references.bib\n",
      "  link-citations: true\n",
      "  \n",
      "\u001b[1m\u001b[34m\n",
      "Rendering PDF\u001b[39m\u001b[22m\n",
      "\u001b[1m\u001b[34mrunning xelatex - 1\u001b[39m\u001b[22m\n",
      "  This is XeTeX, Version 3.14159265-2.6-0.999992 (TeX Live 2020) (preloaded format=xelatex)\n",
      "   restricted \\write18 enabled.\n",
      "  entering extended mode\n",
      "  \n",
      "\u001b[1m\u001b[34mrunning xelatex - 2\u001b[39m\u001b[22m\n",
      "  This is XeTeX, Version 3.14159265-2.6-0.999992 (TeX Live 2020) (preloaded format=xelatex)\n",
      "   restricted \\write18 enabled.\n",
      "  entering extended mode\n",
      "  \n",
      "\n",
      "Output created: 002ScholarlyWriting_.pdf\n",
      "\n"
     ]
    }
   ],
   "source": [
    "#| output: false \n",
    "!cp 002ScholarlyWriting.ipynb 002ScholarlyWriting_.ipynb\n",
    "!quarto render 002ScholarlyWriting_.ipynb --to pdf\n",
    "!mv 002ScholarlyWriting_.pdf __output/002ScholarlyWriting.pdf\n",
    "!rm -r 002ScholarlyWriting_*"
   ]
  },
  {
   "cell_type": "markdown",
   "id": "3ed207c9-6a5c-4738-9e03-dd8e3facd55e",
   "metadata": {},
   "source": [
    "## References"
   ]
  },
  {
   "cell_type": "code",
   "execution_count": null,
   "id": "9e00f99c-33a6-426f-b925-47b221bdcfe4",
   "metadata": {},
   "outputs": [],
   "source": []
  }
 ],
 "metadata": {
  "kernelspec": {
   "display_name": "Python 3 (ipykernel)",
   "language": "python",
   "name": "python3"
  },
  "language_info": {
   "codemirror_mode": {
    "name": "ipython",
    "version": 3
   },
   "file_extension": ".py",
   "mimetype": "text/x-python",
   "name": "python",
   "nbconvert_exporter": "python",
   "pygments_lexer": "ipython3",
   "version": "3.11.8"
  }
 },
 "nbformat": 4,
 "nbformat_minor": 5
}
