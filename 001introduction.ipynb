{
 "cells": [
  {
   "cell_type": "markdown",
   "id": "d4f09fa1-eb64-4b62-89e3-0677245e15ec",
   "metadata": {
    "editable": true,
    "slideshow": {
     "slide_type": ""
    },
    "tags": []
   },
   "source": [
    "---\n",
    "title: \"Hitchhikers guide to transparent, reproducible, and collaborative computational science\"\n",
    "author: \n",
    "    - name: \"Wolfram Barfuss\"\n",
    "    - affiliation: \"University of Bonn\"\n",
    "date: today\n",
    "---"
   ]
  },
  {
   "cell_type": "markdown",
   "id": "53a4ca75-e4e0-482a-93d0-4823b43851e2",
   "metadata": {
    "editable": true,
    "slideshow": {
     "slide_type": "slide"
    },
    "tags": []
   },
   "source": [
    "- Computational sciences develop models and analyze data.\n",
    "- Transparency\n",
    "- Reproducible\n",
    "- Collaborative"
   ]
  },
  {
   "cell_type": "markdown",
   "id": "5d2dcfd2-b904-475d-a08c-74d2c7392e4c",
   "metadata": {
    "editable": true,
    "slideshow": {
     "slide_type": "fragment"
    },
    "tags": []
   },
   "source": [
    "- It is a hitchhiker's guide because many of the elements we use are very common practices. We don't need to drive ourselves."
   ]
  },
  {
   "cell_type": "markdown",
   "id": "473353ab-6de8-4eba-927d-9dd19e4ba8be",
   "metadata": {
    "editable": true,
    "slideshow": {
     "slide_type": ""
    },
    "tags": []
   },
   "source": [
    "### What do we want? {.unnumbered}\n",
    "\n",
    "- Publications (as a PDF, on the web, with images)\n",
    "    - Cross-referencing\n",
    "    - Citations\n",
    "- Execute and reuse code\n",
    "- Presentations\n",
    "- Unit tests\n",
    "- Animations\n",
    "- Version control\n",
    "  \n"
   ]
  },
  {
   "cell_type": "markdown",
   "id": "bd40f92e-250d-48f4-b5c5-f8e531356429",
   "metadata": {
    "editable": true,
    "slideshow": {
     "slide_type": "slide"
    },
    "tags": []
   },
   "source": [
    "## Tools: How do we get it? {.unnumbered}\n",
    "\n",
    "- Jupyter notebooks\n",
    "- quarto\n",
    "- nbdev\n",
    "- Jupyter lab (extensions)\n",
    "- git & github\n",
    "  "
   ]
  },
  {
   "cell_type": "code",
   "execution_count": 8,
   "id": "06f30a5f-0ec7-4b3a-bf26-37d44269d94d",
   "metadata": {},
   "outputs": [],
   "source": [
    "#| echo: false\n",
    "#| output: false \n",
    "# To secretly clean things ... (might be problematic)\n",
    "\n",
    "!rm -r 001Introduction_*"
   ]
  },
  {
   "cell_type": "code",
   "execution_count": null,
   "id": "ed19a340-3db2-443c-8b5e-ad247351bdca",
   "metadata": {},
   "outputs": [],
   "source": []
  },
  {
   "cell_type": "code",
   "execution_count": null,
   "id": "91f4fe13-3ff9-4164-931c-ee33e4bb7d5a",
   "metadata": {},
   "outputs": [],
   "source": []
  }
 ],
 "metadata": {
  "kernelspec": {
   "display_name": "Python 3 (ipykernel)",
   "language": "python",
   "name": "python3"
  },
  "language_info": {
   "codemirror_mode": {
    "name": "ipython",
    "version": 3
   },
   "file_extension": ".py",
   "mimetype": "text/x-python",
   "name": "python",
   "nbconvert_exporter": "python",
   "pygments_lexer": "ipython3",
   "version": "3.11.8"
  }
 },
 "nbformat": 4,
 "nbformat_minor": 5
}
